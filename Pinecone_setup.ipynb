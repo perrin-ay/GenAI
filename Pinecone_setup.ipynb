{
  "nbformat": 4,
  "nbformat_minor": 0,
  "metadata": {
    "colab": {
      "provenance": []
    },
    "kernelspec": {
      "name": "python3",
      "display_name": "Python 3"
    },
    "language_info": {
      "name": "python"
    }
  },
  "cells": [
    {
      "cell_type": "code",
      "execution_count": null,
      "metadata": {
        "id": "iUU-QP9SHV9v"
      },
      "outputs": [],
      "source": [
        "!pip install pinecone-client\n",
        "from pinecone import Pinecone, ServerlessSpec"
      ]
    },
    {
      "cell_type": "markdown",
      "source": [
        "Setup access to notebook with api key"
      ],
      "metadata": {
        "id": "MxaPt23oHrW9"
      }
    },
    {
      "cell_type": "code",
      "source": [
        "pckey = userdata.get('pinecone')\n",
        "pc = Pinecone(api_key=pckey)"
      ],
      "metadata": {
        "id": "cBzN6vCZHquA"
      },
      "execution_count": null,
      "outputs": []
    },
    {
      "cell_type": "markdown",
      "source": [
        "Create an index"
      ],
      "metadata": {
        "id": "QiYUvTfjH6gk"
      }
    },
    {
      "cell_type": "code",
      "source": [
        "index_name = \"rag\"\n",
        "\n",
        "if index_name not in pc.list_indexes().names():\n",
        "    pc.create_index(\n",
        "        name=index_name,\n",
        "        dimension=1024,\n",
        "        metric=\"cosine\",\n",
        "        spec=ServerlessSpec(\n",
        "            cloud='aws',\n",
        "            region='us-east-1'\n",
        "        )\n",
        "    )\n",
        "    while not pc.describe_index(index_name).status[\"ready\"]:\n",
        "      time.sleep(1)\n",
        "\n",
        "index = pc.Index(index_name)"
      ],
      "metadata": {
        "id": "WaJpqtWNHq5U"
      },
      "execution_count": null,
      "outputs": []
    },
    {
      "cell_type": "markdown",
      "source": [
        "**Chromadb to pandas df**"
      ],
      "metadata": {
        "id": "dzOuMNYUIJJN"
      }
    },
    {
      "cell_type": "code",
      "source": [
        "model_name = \"Alibaba-NLP/gte-large-en-v1.5\"\n",
        "model_kwargs = {'device': 'cpu', 'trust_remote_code': True}\n",
        "encode_kwargs = {'normalize_embeddings': False}\n",
        "### NOTE dim size is 1024 NOT 768 ########\n",
        "hf = HuggingFaceEmbeddings(\n",
        "    model_name=model_name,\n",
        "    model_kwargs=model_kwargs,\n",
        "    encode_kwargs=encode_kwargs\n",
        ")\n",
        "persist_directory = 'fulldb_cliuserguide'\n",
        "!unzip \"/content/drive/MyDrive/Colab Notebooks/My NN stuff/alteon/chroma_db_cliuserguide.zip\"\n",
        "vectordb_cliguide = Chroma(persist_directory=persist_directory, embedding_function=hf)\n",
        "print(vectordb_cliguide._collection.count())\n",
        "\n",
        "\n",
        "top = vectordb_cliguide.get(include=['uris','documents','metadatas', 'embeddings'])\n",
        "newdict = {}\n",
        "newdict['ids'] = top['ids']\n",
        "newdict['metadata'] = top['metadatas']\n",
        "newdict['docs'] = top['documents']\n",
        "newdict['values']= top['embeddings']\n",
        "\n",
        "df = pd.DataFrame(newdict)\n",
        "df = df.rename(columns={\"docs\":\"name\"}, errors=\"raise\")\n",
        "df['id'] = [\"cliguides#chunk\"+str(i) for i in range(1, len(df) + 1)]\n",
        "print (df.columns.to_list()) # ['id', 'metadatas', 'docs', 'embedding']\n",
        "texts = df['name'].to_dict()\n",
        "metadata = df['metadata'].to_dict()\n",
        "for i in metadata:\n",
        "  metadata[i]['text']=texts[i]\n",
        "df['metadata']=[metadata[i] for i in metadata]\n",
        "\n",
        "df= df[['id','values','metadata']]"
      ],
      "metadata": {
        "id": "NSPJsdCbHq73"
      },
      "execution_count": null,
      "outputs": []
    },
    {
      "cell_type": "markdown",
      "source": [
        "**Push dataframe to Pinecone**"
      ],
      "metadata": {
        "id": "muML2h8TISlp"
      }
    },
    {
      "cell_type": "code",
      "source": [
        "index_name = \"rag\"\n",
        "index = pc.Index(index_name)\n",
        "index.upsert_from_dataframe(df, namespace = 'ALTEON_CLI_GUIDE')"
      ],
      "metadata": {
        "id": "M-PZvsSlISSm"
      },
      "execution_count": null,
      "outputs": []
    },
    {
      "cell_type": "markdown",
      "source": [
        "**query index stats**"
      ],
      "metadata": {
        "id": "CO3dsp5LIrmE"
      }
    },
    {
      "cell_type": "code",
      "source": [
        "index.describe_index_stats()"
      ],
      "metadata": {
        "id": "lnZoWQRkIqAe"
      },
      "execution_count": null,
      "outputs": []
    },
    {
      "cell_type": "markdown",
      "source": [
        "**Query and semantic search**"
      ],
      "metadata": {
        "id": "LZiR9FxgIvcx"
      }
    },
    {
      "cell_type": "code",
      "source": [],
      "metadata": {
        "id": "CyIyealJIp4y"
      },
      "execution_count": null,
      "outputs": []
    },
    {
      "cell_type": "code",
      "source": [
        "question = \"How to disable management access to data ports?\"\n",
        "\n",
        "query_results = index.query(\n",
        "    namespace='ALTEON_CLI_GUIDE',\n",
        "    vector=hf.embed_query(question) ,\n",
        "    top_k=5,\n",
        "    include_values=False,\n",
        "    include_metadata = True\n",
        ")\n",
        "print(query_results)"
      ],
      "metadata": {
        "colab": {
          "base_uri": "https://localhost:8080/"
        },
        "id": "88DU3umTNOIY",
        "outputId": "cff5cbaa-8ef2-487e-bd89-178a8f5b1464"
      },
      "execution_count": null,
      "outputs": [
        {
          "output_type": "stream",
          "name": "stdout",
          "text": [
            "{'matches': [{'id': 'cliguides#chunk194',\n",
            "              'metadata': {'source': 'revised alteon cli guide.pdf',\n",
            "                           'text': 'Document ID: RDWR-ALOS-V3358_CLIAG2403\\n'\n",
            "                                   '\\n'\n",
            "                                   '57\\n'\n",
            "                                   '\\n'\n",
            "                                   'Alteon Command Line Interface Application '\n",
            "                                   'Guide Accessing Alteon\\n'\n",
            "                                   '\\n'\n",
            "                                   '>> Management Port # apply\\n'\n",
            "                                   '\\n'\n",
            "                                   '(Make your changes active)\\n'\n",
            "                                   '\\n'\n",
            "                                   '>> Management Port # cur\\n'\n",
            "                                   '\\n'\n",
            "                                   '(View current settings)\\n'\n",
            "                                   '\\n'\n",
            "                                   '>> Management Port # save\\n'\n",
            "                                   '\\n'\n",
            "                                   '(Save for restore after reboot)\\n'\n",
            "                                   '\\n'\n",
            "                                   'Limiting Management Access In a standalone '\n",
            "                                   'appliance, you can disable access to a '\n",
            "                                   'management service from a data port using '\n",
            "                                   'one of the commands as described in Table '\n",
            "                                   '1 - Commands to Limit Standalone '\n",
            "                                   'Management Access, page 58:\\n'\n",
            "                                   '\\n'\n",
            "                                   'Table 1: Commands to Limit Standalone '\n",
            "                                   'Management Access\\n'\n",
            "                                   '\\n'\n",
            "                                   'Command\\n'\n",
            "                                   '\\n'\n",
            "                                   'Description\\n'\n",
            "                                   '\\n'\n",
            "                                   '/cfg/sys/access/port/add <port number>\\n'\n",
            "                                   '\\n'\n",
            "                                   'Enable port for management access.\\n'\n",
            "                                   '\\n'\n",
            "                                   '/cfg/sys/access/port/rem <port number>\\n'\n",
            "                                   '\\n'\n",
            "                                   'Disable port from management access.\\n'\n",
            "                                   '\\n'\n",
            "                                   '/cfg/sys/access/port/arem\\n'\n",
            "                                   '\\n'\n",
            "                                   'Disable all ports from management access.\\n'\n",
            "                                   '\\n'\n",
            "                                   '/cfg/sys/access/port/cur\\n'\n",
            "                                   '\\n'\n",
            "                                   'Current listing of data ports with '\n",
            "                                   'management access.',\n",
            "                           'title': 'Alteon CLI user guide'},\n",
            "              'score': 0.823412061,\n",
            "              'values': []},\n",
            "             {'id': 'cliguides#chunk1660',\n",
            "              'metadata': {'source': 'revised alteon cli guide.pdf',\n",
            "                           'text': 'Disable port from management access.\\n'\n",
            "                                   '\\n'\n",
            "                                   '/cfg/sys/access/port/arem\\n'\n",
            "                                   '\\n'\n",
            "                                   'Disable all ports from management access.\\n'\n",
            "                                   '\\n'\n",
            "                                   '/cfg/sys/access/port/cur\\n'\n",
            "                                   '\\n'\n",
            "                                   'Current listing of data ports with '\n",
            "                                   'management access.\\n'\n",
            "                                   '\\n'\n",
            "                                   'ADC-VX supports virtual ADC (vADC) '\n",
            "                                   'management access through VLANs. Unlike '\n",
            "                                   'standalone appliances, a vADC does not '\n",
            "                                   'necessarily own the entire physical port '\n",
            "                                   'and can share it with other applications '\n",
            "                                   'or services. To accommodate such a design, '\n",
            "                                   'the data port management access for vADCs '\n",
            "                                   'is supported by VLAN IDs and not by '\n",
            "                                   'physical ports.\\n'\n",
            "                                   '\\n'\n",
            "                                   'Table 2 - Commands to Limit vADC '\n",
            "                                   'Management Access, page 58 lists the '\n",
            "                                   'commands that can be used to limit '\n",
            "                                   'management services from VLANs:\\n'\n",
            "                                   '\\n'\n",
            "                                   'Table 2: Commands to Limit vADC Management '\n",
            "                                   'Access\\n'\n",
            "                                   '\\n'\n",
            "                                   'Command\\n'\n",
            "                                   '\\n'\n",
            "                                   'Description\\n'\n",
            "                                   '\\n'\n",
            "                                   '/cfg/sys/access/vlan/add <vlan number>\\n'\n",
            "                                   '\\n'\n",
            "                                   'Enable VLAN for management access.\\n'\n",
            "                                   '\\n'\n",
            "                                   '/cfg/sys/access/vlan/aadd <vlan number>\\n'\n",
            "                                   '\\n'\n",
            "                                   'Enable all VLANs for management access.\\n'\n",
            "                                   '\\n'\n",
            "                                   '/cfg/sys/access/vlan/rem <vlan number>\\n'\n",
            "                                   '\\n'\n",
            "                                   'Disable VLAN from management access.\\n'\n",
            "                                   '\\n'\n",
            "                                   '/cfg/sys/access/vlan/arem',\n",
            "                           'title': 'Alteon CLI user guide'},\n",
            "              'score': 0.797676146,\n",
            "              'values': []},\n",
            "             {'id': 'cliguides#chunk205',\n",
            "              'metadata': {'source': 'revised alteon cli guide.pdf',\n",
            "                           'text': 'The management port does not participate '\n",
            "                                   'in the switching and routing protocols '\n",
            "                                   'that run on the data ports, but it can be '\n",
            "                                   'used to perform management functions such '\n",
            "                                   'as:\\n'\n",
            "                                   '\\n'\n",
            "                                   'Accessing the NTP server\\n'\n",
            "                                   '\\n'\n",
            "                                   'Sending out SNMP traps\\n'\n",
            "                                   '\\n'\n",
            "                                   'Sending out syslog messages\\n'\n",
            "                                   '\\n'\n",
            "                                   'Accessing the RADIUS server\\n'\n",
            "                                   '\\n'\n",
            "                                   'Accessing the TACACS+ server\\n'\n",
            "                                   '\\n'\n",
            "                                   'Accessing the DNS server\\n'\n",
            "                                   '\\n'\n",
            "                                   'Performing TFTP or FTP functions (ptimg, '\n",
            "                                   'gtimg, ptcfg, gtcfg, ptdmp)\\n'\n",
            "                                   '\\n'\n",
            "                                   'Accessing the SMTP server\\n'\n",
            "                                   '\\n'\n",
            "                                   'Running the ping, telnet, and traceroute '\n",
            "                                   'commands\\n'\n",
            "                                   '\\n'\n",
            "                                   'Note: BOOTP is not supported over the '\n",
            "                                   'management port.\\n'\n",
            "                                   '\\n'\n",
            "                                   'For more information on using the commands '\n",
            "                                   'to perform these functions, see the Alteon '\n",
            "                                   'Command Line Interface Reference Guide.\\n'\n",
            "                                   '\\n'\n",
            "                                   'Setting Up the Management Port This '\n",
            "                                   'section describes how to set up the '\n",
            "                                   'management port.\\n'\n",
            "                                   '\\n'\n",
            "                                   'Notes',\n",
            "                           'title': 'Alteon CLI user guide'},\n",
            "              'score': 0.727353215,\n",
            "              'values': []},\n",
            "             {'id': 'cliguides#chunk1223',\n",
            "              'metadata': {'source': 'revised alteon cli guide.pdf',\n",
            "                           'text': 'Document ID: RDWR-ALOS-V3358_CLIAG2403\\n'\n",
            "                                   '\\n'\n",
            "                                   '55\\n'\n",
            "                                   '\\n'\n",
            "                                   'Alteon Command Line Interface Application '\n",
            "                                   'Guide Accessing Alteon\\n'\n",
            "                                   '\\n'\n",
            "                                   'Dedicated Management Port\\n'\n",
            "                                   '\\n'\n",
            "                                   'The management port is a Gigabit Ethernet '\n",
            "                                   'port that is used exclusively for managing '\n",
            "                                   'Alteon. While you can manage Alteon from '\n",
            "                                   'any network port, the management port '\n",
            "                                   'conserves a data port that could otherwise '\n",
            "                                   'be used for processing data and traffic. '\n",
            "                                   'You can use the management port to access '\n",
            "                                   'Alteon using Telnet (CLI), SSH, or HTTPS '\n",
            "                                   '(WBM). This port is isolated from and does '\n",
            "                                   'not participate in the networking '\n",
            "                                   'protocols that run on the network ports.\\n'\n",
            "                                   '\\n'\n",
            "                                   'Note: If Alteon maintains multiple '\n",
            "                                   'management sessions via Telnet, SSH, '\n",
            "                                   'and/or HTTP, do not perform any '\n",
            "                                   'configuration or update operations when an '\n",
            "                                   'Apply operation is in progress on one of '\n",
            "                                   'the management sessions.\\n'\n",
            "                                   '\\n'\n",
            "                                   'The management port does not participate '\n",
            "                                   'in the switching and routing protocols '\n",
            "                                   'that run on the data ports, but it can be '\n",
            "                                   'used to perform management functions such '\n",
            "                                   'as:\\n'\n",
            "                                   '\\n'\n",
            "                                   'Accessing the NTP server',\n",
            "                           'title': 'Alteon CLI user guide'},\n",
            "              'score': 0.710478544,\n",
            "              'values': []},\n",
            "             {'id': 'cliguides#chunk1336',\n",
            "              'metadata': {'source': 'revised alteon cli guide.pdf',\n",
            "                           'text': 'Document ID: RDWR-ALOS-V3358_CLIAG2403\\n'\n",
            "                                   '\\n'\n",
            "                                   '97\\n'\n",
            "                                   '\\n'\n",
            "                                   'Alteon Command Line Interface Application '\n",
            "                                   'Guide ADC-VX Management\\n'\n",
            "                                   '\\n'\n",
            "                                   'Configuring and Maintaining Management '\n",
            "                                   'Ports The Global Administrator is '\n",
            "                                   'responsible for the initial vADC settings, '\n",
            "                                   'including user access methods. '\n",
            "                                   'Additionally, the Global Administrator can '\n",
            "                                   'control the access method in which a vADC '\n",
            "                                   'is accessed, such as limiting access '\n",
            "                                   'through SSH and/or HTTPS. These settings '\n",
            "                                   'can be changed by the vADC Administrator '\n",
            "                                   'if the Global Administrator allows for '\n",
            "                                   'this.\\n'\n",
            "                                   '\\n'\n",
            "                                   'For more details on configuring and '\n",
            "                                   'maintaining management ports in the vADC '\n",
            "                                   'environment, see the section on the '\n",
            "                                   '/cfg/sys/mmgmt menu in the Alteon Command '\n",
            "                                   'Line Interface Reference Guide.',\n",
            "                           'title': 'Alteon CLI user guide'},\n",
            "              'score': 0.706270218,\n",
            "              'values': []}],\n",
            " 'namespace': 'ALTEON_CLI_GUIDE',\n",
            " 'usage': {'read_units': 6}}\n"
          ]
        }
      ]
    }
  ]
}