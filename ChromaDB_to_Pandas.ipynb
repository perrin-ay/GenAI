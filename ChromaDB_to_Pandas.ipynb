{
  "nbformat": 4,
  "nbformat_minor": 0,
  "metadata": {
    "colab": {
      "provenance": []
    },
    "kernelspec": {
      "name": "python3",
      "display_name": "Python 3"
    },
    "language_info": {
      "name": "python"
    }
  },
  "cells": [
    {
      "cell_type": "markdown",
      "source": [
        "**Setup the embeddings model**"
      ],
      "metadata": {
        "id": "2vzTLMJQA3oE"
      }
    },
    {
      "cell_type": "code",
      "source": [
        "model_name = \"Alibaba-NLP/gte-large-en-v1.5\"\n",
        "model_kwargs = {'device': 'cpu', 'trust_remote_code': True}\n",
        "encode_kwargs = {'normalize_embeddings': False}\n",
        "hf = HuggingFaceEmbeddings(\n",
        "    model_name=model_name,\n",
        "    model_kwargs=model_kwargs,\n",
        "    encode_kwargs=encode_kwargs\n",
        ")\n"
      ],
      "metadata": {
        "id": "9TF-Ka0ZA3XX"
      },
      "execution_count": null,
      "outputs": []
    },
    {
      "cell_type": "markdown",
      "source": [
        "**Load chromdb object from saved chromadb vector db**"
      ],
      "metadata": {
        "id": "v8CDbOROAlJw"
      }
    },
    {
      "cell_type": "code",
      "execution_count": null,
      "metadata": {
        "id": "6UTcP_qKhowr"
      },
      "outputs": [],
      "source": [
        "persist_directory = 'fulldb_cliuserguide'\n",
        "!unzip \"/content/drive/MyDrive/Colab Notebooks/My NN stuff/alteon/chroma_db_cliuserguide.zip\"\n",
        "vectordb_cliguide = Chroma(persist_directory=persist_directory, embedding_function=hf)\n",
        "print(vectordb_cliguide._collection.count())"
      ]
    },
    {
      "cell_type": "markdown",
      "source": [
        "**Convert to pandas df**"
      ],
      "metadata": {
        "id": "LGHW9m4nBEe1"
      }
    },
    {
      "cell_type": "code",
      "source": [
        "top = vectordb_cliguide.get(include=['documents','metadatas', 'embeddings'])\n",
        "newdict = {}\n",
        "newdict['ids'] = top['ids']\n",
        "newdict['metadatas'] = top['metadatas']\n",
        "newdict['docs'] = top['documents']\n",
        "newdict['embedding']= top['embeddings']\n",
        "\n",
        "df = pd.DataFrame(newdict)\n",
        "df = df.rename(columns={\"docs\":\"name\"}, errors=\"raise\")\n",
        "\n",
        "# customize id per your requirements\n",
        "df['id'] = [\"cliguide_chunks/\"+str(i) for i in range(1, len(df) + 1)]\n",
        "\n",
        "# verify\n",
        "print (df.head(3))\n",
        "print (df.tail(3))\n",
        "\n",
        "\n",
        "############## convert to json file ###########\n"
      ],
      "metadata": {
        "id": "Nhfc25s-Ajey"
      },
      "execution_count": null,
      "outputs": []
    },
    {
      "cell_type": "markdown",
      "source": [
        "**Convert pandas to json and write to disk**"
      ],
      "metadata": {
        "id": "EoC2K8q_BZL3"
      }
    },
    {
      "cell_type": "code",
      "source": [
        "jsonstring = df[[\"id\",\"name\",\"embedding\"]].to_json(orient=\"records\", lines=True)\n",
        "with open(\"cliguideembeddings.json\", \"w\") as f:\n",
        "    f.write(jsonstring)"
      ],
      "metadata": {
        "id": "VLLfAsT_BYpt"
      },
      "execution_count": null,
      "outputs": []
    }
  ]
}