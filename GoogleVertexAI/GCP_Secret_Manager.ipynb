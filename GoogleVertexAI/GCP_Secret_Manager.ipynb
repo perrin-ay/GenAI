{
  "nbformat": 4,
  "nbformat_minor": 0,
  "metadata": {
    "colab": {
      "provenance": []
    },
    "kernelspec": {
      "name": "python3",
      "display_name": "Python 3"
    },
    "language_info": {
      "name": "python"
    }
  },
  "cells": [
    {
      "cell_type": "code",
      "execution_count": null,
      "metadata": {
        "id": "Y8Ao8-XhhgTK"
      },
      "outputs": [],
      "source": [
        "!pip install google-cloud-secret-manager"
      ]
    },
    {
      "cell_type": "markdown",
      "source": [
        "**Create Secrets**"
      ],
      "metadata": {
        "id": "xY3AaxlqidVu"
      }
    },
    {
      "cell_type": "code",
      "source": [
        "from google.cloud import secretmanager\n",
        "\n",
        "project_id = \"your_project\"\n",
        "\n",
        "\n",
        "secret_id = \"YOUR_SECRET_ID\"\n",
        "\n",
        "client = secretmanager.SecretManagerServiceClient()\n",
        "=\n",
        "parent = f\"projects/{project_id}\"\n",
        "\n",
        "version = client.add_secret_version(\n",
        "    request={\"parent\": secret.name, \"payload\": {\"data\": b\"your secret hash\"}}\n",
        ")\n",
        "\n",
        "# Access the secret version.\n",
        "response = client.access_secret_version(request={\"name\": version.name})\n",
        "print(f\"Plaintext: {payload}\")\n"
      ],
      "metadata": {
        "id": "Cps6ChNMiPO8"
      },
      "execution_count": null,
      "outputs": []
    },
    {
      "cell_type": "markdown",
      "source": [
        "**Access secret**"
      ],
      "metadata": {
        "id": "Z9G2Hnssib4C"
      }
    },
    {
      "cell_type": "code",
      "source": [
        "# \"projects/930596367380/secrets/cohere/versions/1\" get this from console - > view resource name\n",
        "coheresecret = client.access_secret_version(request={\"name\":\"projects/930596367380/secrets/cohere/versions/1\"})\n",
        "os.environ[\"COHERE_API_KEY\"] = coheresecret.payload.data.decode(\"UTF-8\")\n",
        "\n"
      ],
      "metadata": {
        "id": "nlJqhJ_xibaQ"
      },
      "execution_count": null,
      "outputs": []
    }
  ]
}
