{
  "nbformat": 4,
  "nbformat_minor": 0,
  "metadata": {
    "colab": {
      "provenance": []
    },
    "kernelspec": {
      "name": "python3",
      "display_name": "Python 3"
    },
    "language_info": {
      "name": "python"
    }
  },
  "cells": [
    {
      "cell_type": "markdown",
      "source": [
        "Instantantiate your embeddings model"
      ],
      "metadata": {
        "id": "FqcSsfsgEsPA"
      }
    },
    {
      "cell_type": "code",
      "source": [
        "model_name = \"Alibaba-NLP/gte-large-en-v1.5\"\n",
        "model_kwargs = {'device': 'cpu', 'trust_remote_code': True}\n",
        "encode_kwargs = {'normalize_embeddings': False}\n",
        "### NOTE dim size is 1024 NOT 768 ########\n",
        "hf = HuggingFaceEmbeddings(\n",
        "    model_name=model_name,\n",
        "    model_kwargs=model_kwargs,\n",
        "    encode_kwargs=encode_kwargs\n",
        ")"
      ],
      "metadata": {
        "id": "qdcUwiIbEr-J"
      },
      "execution_count": null,
      "outputs": []
    },
    {
      "cell_type": "markdown",
      "source": [
        "Load your saved vectordb"
      ],
      "metadata": {
        "id": "3QSnyJonGhqQ"
      }
    },
    {
      "cell_type": "code",
      "source": [
        "persist_directory = 'fulldb_cliuserguide'\n",
        "!unzip \"/content/drive/MyDrive/Colab Notebooks/My NN stuff/alteon/chroma_db_cliuserguide.zip\"\n",
        "vectordb_cliguide = Chroma(persist_directory=persist_directory, embedding_function=hf)\n",
        "print(vectordb_cliguide._collection.count())"
      ],
      "metadata": {
        "id": "9BJ2SpuUErjO"
      },
      "execution_count": null,
      "outputs": []
    },
    {
      "cell_type": "markdown",
      "source": [
        "Convert to pandas for easier processing"
      ],
      "metadata": {
        "id": "MaNm3RZ8GpUb"
      }
    },
    {
      "cell_type": "code",
      "source": [
        "\n",
        "top = vectordb_cliguide.get(include=['uris','documents','metadatas', 'embeddings'])\n",
        "newdict = {}\n",
        "newdict['ids'] = top['ids']\n",
        "newdict['metadatas'] = top['metadatas']\n",
        "newdict['docs'] = top['documents']\n",
        "newdict['embedding']= top['embeddings']\n",
        "\n",
        "df = pd.DataFrame(newdict)\n",
        "df = df.rename(columns={\"docs\":\"name\"}, errors=\"raise\")\n",
        "df['id'] = [\"cliguide_chunks/\"+str(i) for i in range(1, len(df) + 1)]\n",
        "print (df.columns.to_list()) # ['id', 'metadatas', 'docs', 'embedding']\n",
        "print (df.head(3))\n",
        "print (df.tail(3))\n",
        "\n",
        "\n"
      ],
      "metadata": {
        "id": "yQBplm6XGorR"
      },
      "execution_count": null,
      "outputs": []
    },
    {
      "cell_type": "markdown",
      "source": [
        "save to json file on disk for later use"
      ],
      "metadata": {
        "id": "NQJtZylAG__E"
      }
    },
    {
      "cell_type": "code",
      "source": [
        "jsonl_string = df[[\"id\",\"name\",\"embedding\"]].to_json(orient=\"records\", lines=True)\n",
        "with open(\"cliguideembeddings.json\", \"w\") as f:\n",
        "    f.write(jsonl_string)"
      ],
      "metadata": {
        "id": "9wmkLcWJG_dN"
      },
      "execution_count": null,
      "outputs": []
    },
    {
      "cell_type": "markdown",
      "source": [
        "**Upload chunks for retrieval to GCS**\n",
        "\n",
        "- GCS files names for the chunks should be same as id for its embeddings\n",
        "\n",
        "for examples:\n",
        "  \n",
        "                                           embedding                 id  \n",
        "0  [0.07530160993337631, -0.38302767276763916, 0....  cliguide_chunks/1  \n",
        "1  [-0.7277048826217651, -0.15646065771579742, 0....  cliguide_chunks/2  \n",
        "2  [-0.2633463442325592, -0.06908517330884933, 0....  cliguide_chunks/3  \n",
        "\n",
        "*Use the filename of chunk for cliguide_chunks/1  as cliguide_chunks/1 *"
      ],
      "metadata": {
        "id": "L9_siyZOCkIC"
      }
    },
    {
      "cell_type": "code",
      "execution_count": null,
      "metadata": {
        "id": "Apg_vDpeCOU_"
      },
      "outputs": [],
      "source": [
        "\n",
        "from google.cloud import storage\n",
        "\n",
        "\n",
        "def upload_blob_from_memory(contents, bucket_name =\"yourbucket\", destination_blob_name = 'cliguide_chunks/1'):\n",
        "    \"\"\"Uploads a file to the bucket.\"\"\"\n",
        "    storage_client = storage.Client()\n",
        "    bucket = storage_client.bucket(bucket_name)\n",
        "    blob = bucket.blob(destination_blob_name)\n",
        "\n",
        "    blob.upload_from_string(contents)\n",
        "\n",
        "\n",
        "##### uploads the text chunks by creating file name corresponding to the id######\n",
        "\n",
        "newdictt =  df[[\"id\",\"name\"]].to_dict()\n",
        "for i in range(len(newdictt['name'])):\n",
        "  upload_blob_from_memory(newdictt['name'][i],destination_blob_name = 'cliguide_chunks/'+str(i+1))"
      ]
    },
    {
      "cell_type": "markdown",
      "source": [
        "upload embedding json file to gcs"
      ],
      "metadata": {
        "id": "pceu2ObgHPqN"
      }
    },
    {
      "cell_type": "code",
      "source": [
        "!gcloud config set project {PROJECT_ID}\n",
        "!gsutil cp cliguideembeddings.json {GCS_BUCKET_URI}"
      ],
      "metadata": {
        "id": "yMNH9cXsCZjd"
      },
      "execution_count": null,
      "outputs": []
    },
    {
      "cell_type": "markdown",
      "source": [
        "Create vector search index and endpoint"
      ],
      "metadata": {
        "id": "KH4nVx9tHd6J"
      }
    },
    {
      "cell_type": "code",
      "source": [
        "from google.cloud import aiplatform\n",
        "DIMENSIONS = 1024  # Dimensions\n",
        "index_id = \"index_dims1024_stream\"\n",
        "index_desc = \"index_dims1024_stream\"\n",
        "index_stream = aiplatform.MatchingEngineIndex.create_tree_ah_index(\n",
        "    display_name=index_id,\n",
        "    dimensions=DIMENSIONS,\n",
        "    approximate_neighbors_count=150,\n",
        "    leaf_node_embedding_count=500, # The default value is 1000\n",
        "    leaf_nodes_to_search_percent=7, #The default value is 10 (means 10%)\n",
        "    description=index_desc,\n",
        "    index_update_method=\"stream_update\",\n",
        "    distance_measure_type=\"DOT_PRODUCT_DISTANCE\"\n",
        ")\n",
        "\n",
        "# once you run this cell index id is returned\n",
        "## projects/930596367380/locations/us-central1/indexes/5647386389373779968"
      ],
      "metadata": {
        "id": "8PYPDUcjHdOe"
      },
      "execution_count": null,
      "outputs": []
    },
    {
      "cell_type": "markdown",
      "source": [
        "Setup endpoint\n",
        "\n",
        "The endpoint creation might take more than an hour so you can can cancel the cell"
      ],
      "metadata": {
        "id": "wRyBAPUxH988"
      }
    },
    {
      "cell_type": "code",
      "source": [
        "index_endpoint_2 = aiplatform.MatchingEngineIndexEndpoint.create(\n",
        "    display_name=f\"RAG_endpoint_2\",\n",
        "    description=\"RAG endpoint 2\",\n",
        "    public_endpoint_enabled=True\n",
        ")\n",
        "\n",
        "my_index_id_2 = \"5647386389373779968\" # your index id\n",
        "\n",
        "index = aiplatform.MatchingEngineIndex(\n",
        "    index_name=my_index_id_2\n",
        "\n",
        "    )\n",
        "index_endpoint_2 = index_endpoint_2.deploy_index(\n",
        "    index=index, deployed_index_id=\"index_dims1024_stream\"\n",
        ")"
      ],
      "metadata": {
        "id": "BTJNxUOTHdRD"
      },
      "execution_count": null,
      "outputs": []
    },
    {
      "cell_type": "markdown",
      "source": [
        "**Once endpoint is ready , go to edit index and upload the json file \"cliguideembeddings.json\"**"
      ],
      "metadata": {
        "id": "9tzDUWARId9I"
      }
    }
  ]
}