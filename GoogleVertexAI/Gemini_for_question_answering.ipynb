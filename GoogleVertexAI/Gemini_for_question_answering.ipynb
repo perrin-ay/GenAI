{
  "nbformat": 4,
  "nbformat_minor": 0,
  "metadata": {
    "colab": {
      "provenance": []
    },
    "kernelspec": {
      "name": "python3",
      "display_name": "Python 3"
    },
    "language_info": {
      "name": "python"
    }
  },
  "cells": [
    {
      "cell_type": "code",
      "execution_count": null,
      "metadata": {
        "id": "4LJDXuMWCj-i"
      },
      "outputs": [],
      "source": [
        "!pip install --upgrade google-cloud-aiplatform\n",
        "!pip install google-cloud-secret-manager\n",
        "\n",
        "import base64\n",
        "import vertexai\n",
        "from vertexai.generative_models import GenerativeModel, Part\n",
        "import vertexai.preview.generative_models as generative_models\n",
        "from vertexai.language_models import TextGenerationModel, ChatModel, InputOutputTextPair\n",
        "\n",
        "import getpass\n",
        "from google.colab import userdata\n",
        "import base64\n",
        "import vertexai\n",
        "from typing import List, Optional\n",
        "from vertexai.language_models import TextEmbeddingInput, TextEmbeddingModel\n",
        "from vertexai.generative_models import GenerativeModel,GenerationConfig, Part, FinishReason, FunctionDeclaration,Tool,HarmBlockThreshold\n",
        "from vertexai.generative_models import HarmCategory, grounding, GenerationResponse\n",
        "import vertexai.preview.generative_models as generative_models\n",
        "from vertexai.preview.generative_models import grounding as preview_grounding\n",
        "from google.cloud import aiplatform"
      ]
    },
    {
      "cell_type": "markdown",
      "source": [
        "**GCP and Vertex AI auth setup**"
      ],
      "metadata": {
        "id": "iznIcVGfDeRO"
      }
    },
    {
      "cell_type": "code",
      "source": [
        "\n",
        "os.environ[\"GOOGLE_APPLICATION_CREDENTIALS\"]= \"mysecret.json\"\n",
        "vertexai.init(project=\"myproject\", location=\"us-central1\")"
      ],
      "metadata": {
        "id": "jTkkaWEIDdQd"
      },
      "execution_count": null,
      "outputs": []
    },
    {
      "cell_type": "markdown",
      "source": [
        "**GEMINI CLIENT USAGE EXAMPLE**"
      ],
      "metadata": {
        "id": "fIibz-xtGMNN"
      }
    },
    {
      "cell_type": "code",
      "source": [
        "\n",
        "\n",
        "MODEL_ID = \"gemini-1.5-flash-001\"\n",
        "####### without system prompt######\n",
        "model = GenerativeModel(MODEL_ID)\n",
        "\n",
        "####### with system prompt ############\n",
        "model = GenerativeModel(\n",
        "    MODEL_ID,\n",
        "    system_instruction=[\n",
        "        \"You are a helpful AI assistant\",\n",
        "        \"Your mission is to help user with Alteon CLI commands\",\n",
        "    ],\n",
        ")\n",
        "########## Set model parameters ###############\n",
        "generation_config = GenerationConfig(\n",
        "    temperature=0.5, # LOW temp values of 0-0.2 recommeneded for rag and code generation.\n",
        "    top_p=0.95,\n",
        "    top_k=40,\n",
        "    candidate_count=1, #The number of response variations to return. This value must be 1\n",
        "    max_output_tokens=8192,\n",
        "    ####### additional useful params #######\n",
        "#    response_mime_type=\"application/json\" # text/plain: (default)\n",
        "#    stop_sequences = Optional: List[string] list of stop words. Max 5 items in list\n",
        ")\n",
        "\n",
        "# safety settings\n",
        "safety_settings = {\n",
        "    HarmCategory.HARM_CATEGORY_HARASSMENT: HarmBlockThreshold.BLOCK_LOW_AND_ABOVE,\n",
        "    HarmCategory.HARM_CATEGORY_HATE_SPEECH: HarmBlockThreshold.BLOCK_LOW_AND_ABOVE,\n",
        "    HarmCategory.HARM_CATEGORY_SEXUALLY_EXPLICIT: HarmBlockThreshold.BLOCK_LOW_AND_ABOVE,\n",
        "    HarmCategory.HARM_CATEGORY_DANGEROUS_CONTENT: HarmBlockThreshold.BLOCK_LOW_AND_ABOVE,\n",
        "}\n",
        "\n",
        "\n",
        "#reduced safety settings\n",
        "lesssafesettings = {\n",
        "#    HarmCategory.HARM_CATEGORY_UNSPECIFIED: HarmBlockThreshold.BLOCK_NONE, # only for monthly invoiced billed account\n",
        "    HarmCategory.HARM_CATEGORY_SEXUALLY_EXPLICIT: HarmBlockThreshold.BLOCK_ONLY_HIGH,\n",
        "    HarmCategory.HARM_CATEGORY_DANGEROUS_CONTENT: HarmBlockThreshold.BLOCK_MEDIUM_AND_ABOVE,\n",
        "}\n",
        "\n",
        "prompt = \"\"\"\n",
        "  User input: Can you help me with Alteon cli commands to configure a virtual server with ip address 44.3.2.3 ?\n",
        "  Answer:\n",
        "\"\"\"\n",
        "\n",
        "response = model.generate_content(\n",
        "    prompt,\n",
        "    generation_config=generation_config,\n",
        "    safety_settings=lesssafesettings,\n",
        "#    stream=True  to turn on streaming\n",
        ")\n",
        "\n",
        "##### when stream is true use this to stream response####\n",
        "#for resp in response:\n",
        "#    print(resp.text, end=\"\")\n",
        "\n",
        "\n",
        "################# Response ######################\n",
        "\n",
        "print (\"Printing the model response attributes - text, usage_metadata, finish reason, safety ratings\\n\")\n",
        "print(f\"\\nAnswer:\\n{response.text}\") # Return generated response\n",
        "\n",
        "\n",
        "print(f'\\nUsage metadata:\\n{response.to_dict().get(\"usage_metadata\")}')\n",
        "print(f\"\\nFinish reason:\\n{response.candidates[0].finish_reason}\")\n",
        "print(f\"\\nSafety settings:\\n{response.candidates[0].safety_ratings}\")\n",
        "\n",
        "print(\"Printing full response:\\n\")\n",
        "print (response)\n",
        "\n"
      ],
      "metadata": {
        "id": "Cb473Va_D_YZ"
      },
      "execution_count": null,
      "outputs": []
    },
    {
      "cell_type": "markdown",
      "source": [
        "**Gemini Grouding API with function calling**\n",
        "\n",
        "- add document to datastore and link to app in Vertex AI - > app builder.\n",
        "- Uses function calling\n"
      ],
      "metadata": {
        "id": "o57gWK_vcQvS"
      }
    },
    {
      "cell_type": "code",
      "source": [
        "\n",
        "from vertexai.preview.generative_models import grounding as preview_grounding\n",
        "from vertexai.generative_models import (\n",
        "    GenerativeModel,\n",
        "    GenerationResponse)\n",
        "\n",
        "\n",
        "############ Setup DATASTORE ###########\n",
        "### The data here contains syslogs\n",
        "\n",
        "DATA_STORE_PROJECT_ID = PROJECT_ID\n",
        "DATA_STORE_REGION = \"global\"\n",
        "DATA_STORE_ID = \"syslog_1721944246450\"\n",
        "datastore = f\"projects/{DATA_STORE_PROJECT_ID}/locations/{DATA_STORE_REGION}/collections/default_collection/dataStores/{DATA_STORE_ID}\"\n",
        "\n",
        "MODEL_ID = \"gemini-1.5-flash-001\"\n",
        "model = GenerativeModel(\n",
        "    MODEL_ID,\n",
        ")\n",
        "\n",
        "generation_config = GenerationConfig(\n",
        "    temperature=0,\n",
        "    top_p=0.95,\n",
        "    top_k=40,\n",
        "    candidate_count=1,\n",
        "    max_output_tokens=8192,\n",
        "\n",
        ")\n",
        "\n",
        "lesssafetysettings = {\n",
        "#    HarmCategory.HARM_CATEGORY_UNSPECIFIED: HarmBlockThreshold.BLOCK_NONE, # only for monthly invoiced billed account\n",
        "    HarmCategory.HARM_CATEGORY_SEXUALLY_EXPLICIT: HarmBlockThreshold.BLOCK_ONLY_HIGH,\n",
        "    HarmCategory.HARM_CATEGORY_DANGEROUS_CONTENT: HarmBlockThreshold.BLOCK_MEDIUM_AND_ABOVE,\n",
        "}\n",
        "\n",
        "prompt1 = \"Show me all logs with cpu\"\n",
        "prompt2 = \"how do i disable management access on data port ?\"\n",
        "\n",
        "#### instantiate grouding tool #######\n",
        "tool = Tool.from_retrieval(\n",
        "    preview_grounding.Retrieval(preview_grounding.VertexAISearch(datastore=datastore))\n",
        ")\n",
        "\n",
        "\n",
        "response = model.generate_content(\n",
        "    prompt2,\n",
        "    tools=[tool],\n",
        "    generation_config=generation_config,\n",
        "    safety_settings=nosafetysettings,\n",
        ")\n",
        "\n",
        "\n",
        "\n",
        "def parse_print_response(response: GenerationResponse):\n",
        "    \"\"\"Prints Gemini response with grounding citations.\"\"\"\n",
        "    grounding_metadata = response.candidates[0].grounding_metadata\n",
        "    # Citation indices are in byte units\n",
        "    ENCODING = \"utf-8\"\n",
        "    text_bytes = response.text.encode(ENCODING)\n",
        "    print (\"text bytes\",text_bytes )\n",
        "    for segment in grounding_metadata.grounding_supports:\n",
        "      print (segment.segment, segment.confidence_scores)\n",
        "    for chunk in grounding_metadata.grounding_chunks:\n",
        "        print(chunk.retrieved_context.uri)\n",
        "        print(chunk.retrieved_context.title)\n",
        "\n",
        "print(parse_print_response(response))"
      ],
      "metadata": {
        "colab": {
          "base_uri": "https://localhost:8080/"
        },
        "id": "Kc8VZmYM45_5",
        "outputId": "45b446bf-3a63-4b7c-de49-ff93278c0524"
      },
      "execution_count": null,
      "outputs": [
        {
          "output_type": "stream",
          "name": "stdout",
          "text": [
            "text bytes b'To disable management access on a data port of a standalone appliance, use the command `/cfg/sys/access/port/rem <port number>`. To disable management access on a VLAN for a virtual ADC, use the command `/cfg/sys/access/vlan/rem <vlan number>`. \\n'\n",
            "end_index: 128\n",
            "text: \"To disable management access on a data port of a standalone appliance, use the command `/cfg/sys/access/port/rem <port number>`.\"\n",
            " []\n",
            "start_index: 129\n",
            "end_index: 244\n",
            "text: \"To disable management access on a VLAN for a virtual ADC, use the command `/cfg/sys/access/vlan/rem <vlan number>`.\"\n",
            " [0.9883381724357605]\n",
            "gs://lab_data_1/userguides/Alteon CLI User Guide.pdf\n",
            "Alteon CLI User Guide\n",
            "None\n"
          ]
        }
      ]
    }
  ]
}